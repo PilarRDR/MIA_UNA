{
  "nbformat": 4,
  "nbformat_minor": 0,
  "metadata": {
    "colab": {
      "provenance": []
    },
    "kernelspec": {
      "name": "python3",
      "display_name": "Python 3"
    },
    "language_info": {
      "name": "python"
    }
  },
  "cells": [
    {
      "cell_type": "markdown",
      "source": [
        "# 🎯 Guía práctica: Probabilidad, valor esperado, variabilidad y distribuciones\n",
        "\n",
        "### 📘 Unidad temática: Fundamentos probabilísticos y distribuciones  \n",
        "**Autor:** Pastor E. Pérez Estigarribia  \n",
        "📧 peperez.estigarribia@pol.una.py  \n",
        "📅 Fecha de ejecución: `r Sys.time()`\n",
        "\n",
        "---\n",
        "\n",
        "## 🧠 Objetivos de aprendizaje\n",
        "\n",
        "- Simular eventos aleatorios simples y visualizar sus resultados.\n",
        "- Explorar distribuciones discretas y continuas comunes.\n",
        "- Comprender la ley de los grandes números y el teorema del límite central.\n",
        "- Estimar probabilidades empíricas y teóricas.\n",
        "- Evaluar normalidad y variabilidad en datos simulados.\n",
        "\n",
        "---\n",
        "\n",
        "## 🔹 6. Probabilidad de frecuencia a largo plazo\n",
        "\n",
        "### 🧬 Simulación de nacimientos\n",
        "\n",
        "**Contexto:** El sexo biológico de un niño se define por el cromosoma sexual aportado por el padre. La madre aporta siempre un cromosoma X, mientras que el padre puede aportar X o Y. Por lo tanto, la probabilidad esperada de tener una niña es ½.\n",
        "\n",
        "**Simulación de 1 millón de nacimientos:**\n",
        "```r\n",
        "flips <- sample(c(\"XX\", \"XY\"), size = 1000000, replace = TRUE)\n",
        "table(flips)\n",
        "\n",
        "plot(cumsum(flips == \"XX\") / (1:length(flips)),\n",
        "     type = \"l\", ylim = c(0,1),  \n",
        "     main = \"Niña o niño\",\n",
        "     xlab = \"Número de nacimientos\", ylab = \"Proporción de niñas\")\n",
        "abline(h = 0.5, col = \"red\")\n",
        "```\n",
        "\n",
        "**Interpretación:** A medida que aumenta el número de nacimientos simulados, la proporción de niñas se aproxima al valor teórico de 0.5, ilustrando la Ley de los Grandes Números.\n",
        "\n",
        "---\n",
        "\n",
        "## 🔹 7. Distribuciones continuas: estatura\n",
        "\n",
        "*(Esta sección incluye ejemplos con datos reales, distribución empírica y teórica, visualización de densidad, área bajo la curva, gráficos Q-Q y prueba de normalidad con Shapiro-Wilk.)*\n",
        "\n",
        "---\n",
        "\n",
        "## 🔹 8. Teorema del límite central\n",
        "\n",
        "*(Esta sección incluye simulaciones con distribución exponencial, visualización de histogramas y gráficos Q-Q para muestras de distintos tamaños, y análisis de la distribución muestral de la media.)*\n",
        "\n",
        "---\n",
        "\n",
        "## 📊 Rúbrica de autoevaluación\n",
        "\n",
        "| Criterio | Excelente (5) | Bueno (4) | Regular (3) | Deficiente (1–2) |\n",
        "|---------|----------------|-----------|-------------|------------------|\n",
        "| Simulación y visualización | Reproducible y clara | Adecuada | Parcial | Confusa o ausente |\n",
        "| Interpretación de distribuciones | Crítica y contextualizada | Adecuada | Superficial | Ausente |\n",
        "| Comparación empírica vs teórica | Precisa y reflexiva | Parcial | Limitada | Incorrecta |\n",
        "| Evaluación de normalidad | Completa y bien argumentada | Parcial | Confusa | No realizada |\n",
        "\n",
        "---\n",
        "\n",
        "## ✍️ Nota de autoría\n",
        "\n",
        "> Esta guía fue elaborada por **Microsoft Copilot**, asistente de inteligencia artificial especializado en educación, ciencia y tecnología. Puede ser adaptada libremente para uso académico, institucional o personal, siempre que se mantenga la atribución correspondiente.\n",
        "\n",
        "---\n",
        "\n"
      ],
      "metadata": {
        "id": "Klef7_Kp_TEk"
      }
    }
  ]
}